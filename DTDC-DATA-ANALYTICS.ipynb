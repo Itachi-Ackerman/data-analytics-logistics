{
 "cells": [
  {
   "cell_type": "code",
   "execution_count": 1,
   "metadata": {},
   "outputs": [],
   "source": [
    "import pandas as pd\n",
    "import numpy as np\n",
    "import requests\n",
    "import json\n"
   ]
  },
  {
   "cell_type": "code",
   "execution_count": 3,
   "metadata": {},
   "outputs": [],
   "source": [
    "df = pd.read_csv('Data_analysis_v1 - Sheet1.csv')"
   ]
  },
  {
   "cell_type": "code",
   "execution_count": 5,
   "metadata": {},
   "outputs": [],
   "source": [
    "#pd.options.display.max_columns = None\n",
    "#df.head(5)"
   ]
  },
  {
   "cell_type": "code",
   "execution_count": null,
   "metadata": {},
   "outputs": [],
   "source": []
  },
  {
   "cell_type": "code",
   "execution_count": 12,
   "metadata": {},
   "outputs": [],
   "source": [
    "#df.to_csv('Data_analysis_v1 - Sheet1.csv', sep=',')"
   ]
  },
  {
   "cell_type": "code",
   "execution_count": 14,
   "metadata": {},
   "outputs": [],
   "source": []
  },
  {
   "cell_type": "code",
   "execution_count": 4,
   "metadata": {},
   "outputs": [],
   "source": [
    "def rev_geocode(lat,lon):\n",
    "    params = {\n",
    "        'lat': lat,\n",
    "        'lon': lon,\n",
    "        'format': 'json'\n",
    "    }\n",
    "    base_url = 'https://nominatim.openstreetmap.org/reverse?'\n",
    "    response = requests.get(base_url,params=params).json()\n",
    "    print(response)\n",
    "    if 'error' not in response:\n",
    "        return response['display_name']\n",
    "    else:\n",
    "        return np.nan\n",
    "    "
   ]
  },
  {
   "cell_type": "code",
   "execution_count": 1,
   "metadata": {},
   "outputs": [],
   "source": [
    "#df['BK_AD_API'] = df.apply(lambda val : rev_geocode(val['DLV_LATITUDE'],val['DLV_LONGITUDE']),axis=1)"
   ]
  },
  {
   "cell_type": "code",
   "execution_count": 2,
   "metadata": {},
   "outputs": [],
   "source": [
    "#rev_geocode(20.107952,77.1418282)"
   ]
  },
  {
   "cell_type": "code",
   "execution_count": 3,
   "metadata": {},
   "outputs": [],
   "source": [
    "#df.head(5)"
   ]
  },
  {
   "cell_type": "code",
   "execution_count": 65,
   "metadata": {},
   "outputs": [],
   "source": [
    "#df = df.rename({'BK_AD_API': 'DLV_AD_API'}, axis=1)"
   ]
  },
  {
   "cell_type": "code",
   "execution_count": 62,
   "metadata": {},
   "outputs": [],
   "source": [
    "def pincheck(pin1,pin2):\n",
    "    if isinstance(pin1, str) and isinstance(pin2,str):\n",
    "        pin2 = pin2.split(',')[-2]\n",
    "        pin1 = pin1.strip()\n",
    "        pin2 = pin2.strip()\n",
    "        if len(pin1)<len(pin2):\n",
    "            slen = len(pin1)\n",
    "            mlen = len(pin2)\n",
    "        else:\n",
    "            slen = len(pin2)\n",
    "            mlen = len(pin1)\n",
    "        count = 0\n",
    "        for i in range(0,slen):\n",
    "            if pin1[i]==pin2[i]:\n",
    "                count += 1\n",
    "        match = (count/mlen)*100\n",
    "        return match\n",
    "    else:\n",
    "        return np.nan\n",
    "    "
   ]
  },
  {
   "cell_type": "code",
   "execution_count": 5,
   "metadata": {},
   "outputs": [],
   "source": [
    "#df['DLV_AD_API'][0].split(',')[-2]"
   ]
  },
  {
   "cell_type": "code",
   "execution_count": 6,
   "metadata": {},
   "outputs": [],
   "source": [
    "#df['PIN_MATCH'] = df.apply(lambda val : pincheck(val['image_captured_post_code'],val['DLV_AD_API']),axis=1)"
   ]
  },
  {
   "cell_type": "code",
   "execution_count": 7,
   "metadata": {},
   "outputs": [],
   "source": [
    "#df.head(100)"
   ]
  },
  {
   "cell_type": "code",
   "execution_count": 8,
   "metadata": {},
   "outputs": [],
   "source": [
    "def adcheck(im_ad1,im_ad2,im_ad3,api_ad):\n",
    "    if isinstance(api_ad,str):\n",
    "        l1 = [im_ad1,im_ad2,im_ad3]\n",
    "        im_adl = []\n",
    "        for a in l1:\n",
    "            if isinstance(a,str) and a != '\\\\N':\n",
    "                im_adl.append(a)\n",
    "        if len(im_adl) < 1:\n",
    "            return np.nan\n",
    "        im_ad = ''.join(im_adl)\n",
    "        im_ad = (''.join(im_ad.split())).lower()\n",
    "        api_adl = api_ad.split(',')\n",
    "        count = 0\n",
    "        for a in api_adl:\n",
    "            place = (''.join(a.split())).lower()\n",
    "            if place in im_ad:\n",
    "                count += 1\n",
    "        ad_match = (count/len(api_adl))*100\n",
    "        return ad_match\n",
    "    else:\n",
    "        return np.nan\n",
    "\n",
    "            "
   ]
  },
  {
   "cell_type": "code",
   "execution_count": 64,
   "metadata": {},
   "outputs": [
    {
     "name": "stdout",
     "output_type": "stream",
     "text": [
      "[3, 4]\n"
     ]
    }
   ],
   "source": []
  },
  {
   "cell_type": "code",
   "execution_count": 9,
   "metadata": {},
   "outputs": [],
   "source": [
    "#df['AD_MATCH'] = df.apply(lambda val : adcheck(val['image_captured_address_1'],val['image_captured_address_2'],val['image_captured_address_3'],val['DLV_AD_API']),axis=1)"
   ]
  },
  {
   "cell_type": "code",
   "execution_count": 8,
   "metadata": {},
   "outputs": [],
   "source": [
    "#df.head(10)"
   ]
  },
  {
   "cell_type": "code",
   "execution_count": 5,
   "metadata": {},
   "outputs": [],
   "source": [
    "def spellcheck1(place1,place2):\n",
    "    for k in range(0,len(place1)-len(place2)+1):\n",
    "        count = 0\n",
    "        if place1[k] == place2[0]:\n",
    "            for i in range(0,len(place2)):\n",
    "                if (place1[k+i]).lower()==(place2[i]).lower():\n",
    "                    count += 1\n",
    "            match = (count/len(place2))*100\n",
    "            if match>=60:\n",
    "                return True\n",
    "    return False\n",
    "            "
   ]
  },
  {
   "cell_type": "code",
   "execution_count": 98,
   "metadata": {},
   "outputs": [
    {
     "name": "stdout",
     "output_type": "stream",
     "text": [
      "k\n",
      "k\n"
     ]
    },
    {
     "data": {
      "text/plain": [
       "False"
      ]
     },
     "execution_count": 98,
     "metadata": {},
     "output_type": "execute_result"
    }
   ],
   "source": [
    "spellcheck1('hasbchjbasdlotebcjbac','bangalore')"
   ]
  },
  {
   "cell_type": "code",
   "execution_count": 99,
   "metadata": {},
   "outputs": [],
   "source": [
    "def spellcheck2(place1,place2):\n",
    "    for k in range(0,len(place1)-len(place2)+1):\n",
    "        count = 0\n",
    "        j = 0\n",
    "        if place1[k] == place2[0]:\n",
    "            flag = 0\n",
    "            for i in range(0,len(place2)):\n",
    "                if (place1[k+i]).lower()==(place2[j]).lower():\n",
    "                    count += 1\n",
    "                    j += 1\n",
    "                else:\n",
    "                    flag += 1\n",
    "                if flag>2:\n",
    "                    break\n",
    "            match = (count/len(place2))*100\n",
    "            if match>=60:\n",
    "                return True\n",
    "            count = 0\n",
    "            j=0\n",
    "            flag = 0\n",
    "            for i in range(0,len(place2)):\n",
    "                if (place1[k+j]).lower()==(place2[i]).lower():\n",
    "                    count += 1\n",
    "                    j += 1\n",
    "                else:\n",
    "                    flag += 1\n",
    "                if flag>2:\n",
    "                    break\n",
    "            match = (count/len(place2))*100\n",
    "            if match>=60:\n",
    "                return True\n",
    "    return False"
   ]
  },
  {
   "cell_type": "code",
   "execution_count": 9,
   "metadata": {},
   "outputs": [],
   "source": [
    "#spellcheck2('absbangadcsaxhredcdsvdbangaxhsbsv','bangalore')"
   ]
  },
  {
   "cell_type": "code",
   "execution_count": 105,
   "metadata": {},
   "outputs": [],
   "source": [
    "def adcheck2(im_ad1,im_ad2,im_ad3,api_ad):\n",
    "    if isinstance(api_ad,str):\n",
    "        l1 = [im_ad1,im_ad2,im_ad3]\n",
    "        im_adl = []\n",
    "        for a in l1:\n",
    "            if isinstance(a,str) and a != '\\\\N':\n",
    "                im_adl.append(a)\n",
    "        if len(im_adl) < 1:\n",
    "            return np.nan\n",
    "        im_ad = ''.join(im_adl)\n",
    "        im_ad = (''.join(im_ad.split())).lower()\n",
    "        api_adl = api_ad.split(',')\n",
    "        count = 0\n",
    "        for a in api_adl:\n",
    "            place = (''.join(a.split())).lower()\n",
    "            if len(im_ad)>=len(place) and len(im_ad)>0 and len(place)>0:\n",
    "                if spellcheck1(im_ad,place) or spellcheck2(im_ad,place):\n",
    "                    count += 1\n",
    "        ad_match = (count/len(api_adl))*100\n",
    "        return ad_match\n",
    "    else:\n",
    "        return np.nan\n",
    "\n",
    "            "
   ]
  },
  {
   "cell_type": "code",
   "execution_count": 106,
   "metadata": {},
   "outputs": [],
   "source": [
    "df['AD_MATCH2'] = df.apply(lambda val : adcheck2(val['image_captured_address_1'],val['image_captured_address_2'],val['image_captured_address_3'],val['DLV_AD_API']),axis=1)"
   ]
  },
  {
   "cell_type": "code",
   "execution_count": 10,
   "metadata": {},
   "outputs": [],
   "source": [
    "#df.head(20)"
   ]
  },
  {
   "cell_type": "code",
   "execution_count": 1,
   "metadata": {},
   "outputs": [],
   "source": [
    "def adcheck3(im_ad1,im_ad2,im_ad3,api_ad):\n",
    "    if isinstance(api_ad,str):\n",
    "        l1 = [im_ad1,im_ad2,im_ad3]\n",
    "        im_adl = []\n",
    "        for a in l1:\n",
    "            if isinstance(a,str) and a != '\\\\N':\n",
    "                im_adl.append(a)\n",
    "        if len(im_adl) < 1:\n",
    "            return np.nan\n",
    "        im_ad = ''.join(im_adl)\n",
    "        im_ad = (''.join(im_ad.split())).lower()\n",
    "        api_adl = api_ad.split(',')\n",
    "        count = 0\n",
    "        for a in api_adl:\n",
    "            place = (''.join(a.split())).lower()\n",
    "            if len(im_ad)>=len(place) and len(im_ad)>0 and len(place)>0:\n",
    "                if spellcheck1(im_ad,place):\n",
    "                    count += 1\n",
    "        ad_match = (count/len(api_adl))*100\n",
    "        return ad_match\n",
    "    else:\n",
    "        return np.nan\n",
    "\n",
    "            "
   ]
  },
  {
   "cell_type": "code",
   "execution_count": 10,
   "metadata": {},
   "outputs": [],
   "source": [
    "#df['AD_MATCH3'] = df.apply(lambda val : adcheck3(val['image_captured_address_1'],val['image_captured_address_2'],val['image_captured_address_3'],val['DLV_AD_API']),axis=1)"
   ]
  },
  {
   "cell_type": "code",
   "execution_count": null,
   "metadata": {},
   "outputs": [],
   "source": []
  }
 ],
 "metadata": {
  "kernelspec": {
   "display_name": "Python 3",
   "language": "python",
   "name": "python3"
  },
  "language_info": {
   "codemirror_mode": {
    "name": "ipython",
    "version": 3
   },
   "file_extension": ".py",
   "mimetype": "text/x-python",
   "name": "python",
   "nbconvert_exporter": "python",
   "pygments_lexer": "ipython3",
   "version": "3.8.3"
  }
 },
 "nbformat": 4,
 "nbformat_minor": 4
}
